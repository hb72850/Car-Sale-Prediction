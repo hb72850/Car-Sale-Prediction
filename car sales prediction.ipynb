{
 "cells": [
  {
   "cell_type": "code",
   "execution_count": 59,
   "id": "9ab8f4c0-af30-4b67-b3ca-400f5a045e04",
   "metadata": {},
   "outputs": [],
   "source": [
    "import matplotlib.pyplot as plt\n",
    "import numpy as np\n",
    "import pandas as pd\n",
    "import seaborn as sns "
   ]
  },
  {
   "cell_type": "code",
   "execution_count": 60,
   "id": "4690c249-708a-493e-973c-30bd715aead9",
   "metadata": {},
   "outputs": [],
   "source": [
    "df  = pd.read_csv('india-car-dataset.csv')"
   ]
  },
  {
   "cell_type": "code",
   "execution_count": 61,
   "id": "33516530-703a-4529-bebe-fe567c681056",
   "metadata": {},
   "outputs": [
    {
     "data": {
      "text/html": [
       "<div>\n",
       "<style scoped>\n",
       "    .dataframe tbody tr th:only-of-type {\n",
       "        vertical-align: middle;\n",
       "    }\n",
       "\n",
       "    .dataframe tbody tr th {\n",
       "        vertical-align: top;\n",
       "    }\n",
       "\n",
       "    .dataframe thead th {\n",
       "        text-align: right;\n",
       "    }\n",
       "</style>\n",
       "<table border=\"1\" class=\"dataframe\">\n",
       "  <thead>\n",
       "    <tr style=\"text-align: right;\">\n",
       "      <th></th>\n",
       "      <th>OEM</th>\n",
       "      <th>MODEL</th>\n",
       "      <th>BODY TYPE</th>\n",
       "      <th>PRICE IN LAKHS</th>\n",
       "      <th>YEAR</th>\n",
       "      <th>MONTH</th>\n",
       "      <th>SALE</th>\n",
       "      <th>SALE OUT OF</th>\n",
       "    </tr>\n",
       "  </thead>\n",
       "  <tbody>\n",
       "    <tr>\n",
       "      <th>0</th>\n",
       "      <td>Datsun</td>\n",
       "      <td>Go</td>\n",
       "      <td>Hatchback</td>\n",
       "      <td>4.03</td>\n",
       "      <td>2020</td>\n",
       "      <td>1</td>\n",
       "      <td>88.0</td>\n",
       "      <td>1163.0</td>\n",
       "    </tr>\n",
       "    <tr>\n",
       "      <th>1</th>\n",
       "      <td>Datsun</td>\n",
       "      <td>Go Plus</td>\n",
       "      <td>MUV</td>\n",
       "      <td>4.26</td>\n",
       "      <td>2020</td>\n",
       "      <td>1</td>\n",
       "      <td>55.0</td>\n",
       "      <td>1163.0</td>\n",
       "    </tr>\n",
       "    <tr>\n",
       "      <th>2</th>\n",
       "      <td>Datsun</td>\n",
       "      <td>RediGo</td>\n",
       "      <td>Hatchback</td>\n",
       "      <td>3.98</td>\n",
       "      <td>2020</td>\n",
       "      <td>1</td>\n",
       "      <td>1020.0</td>\n",
       "      <td>1163.0</td>\n",
       "    </tr>\n",
       "    <tr>\n",
       "      <th>3</th>\n",
       "      <td>Honda</td>\n",
       "      <td>Amaze</td>\n",
       "      <td>Sedan</td>\n",
       "      <td>6.39</td>\n",
       "      <td>2020</td>\n",
       "      <td>1</td>\n",
       "      <td>3160.0</td>\n",
       "      <td>5239.0</td>\n",
       "    </tr>\n",
       "    <tr>\n",
       "      <th>4</th>\n",
       "      <td>Honda</td>\n",
       "      <td>City</td>\n",
       "      <td>Sedan</td>\n",
       "      <td>11.23</td>\n",
       "      <td>2020</td>\n",
       "      <td>1</td>\n",
       "      <td>1734.0</td>\n",
       "      <td>5239.0</td>\n",
       "    </tr>\n",
       "    <tr>\n",
       "      <th>...</th>\n",
       "      <td>...</td>\n",
       "      <td>...</td>\n",
       "      <td>...</td>\n",
       "      <td>...</td>\n",
       "      <td>...</td>\n",
       "      <td>...</td>\n",
       "      <td>...</td>\n",
       "      <td>...</td>\n",
       "    </tr>\n",
       "    <tr>\n",
       "      <th>1891</th>\n",
       "      <td>Volkswagen</td>\n",
       "      <td>Polo</td>\n",
       "      <td>Hatchback</td>\n",
       "      <td>6.49</td>\n",
       "      <td>2021</td>\n",
       "      <td>12</td>\n",
       "      <td>762.0</td>\n",
       "      <td>3700.0</td>\n",
       "    </tr>\n",
       "    <tr>\n",
       "      <th>1892</th>\n",
       "      <td>Volkswagen</td>\n",
       "      <td>Taigun</td>\n",
       "      <td>SUV</td>\n",
       "      <td>11.00</td>\n",
       "      <td>2021</td>\n",
       "      <td>12</td>\n",
       "      <td>2828.0</td>\n",
       "      <td>3700.0</td>\n",
       "    </tr>\n",
       "    <tr>\n",
       "      <th>1893</th>\n",
       "      <td>Volkswagen</td>\n",
       "      <td>Tiguan</td>\n",
       "      <td>SUV</td>\n",
       "      <td>11.00</td>\n",
       "      <td>2021</td>\n",
       "      <td>12</td>\n",
       "      <td>40.0</td>\n",
       "      <td>3700.0</td>\n",
       "    </tr>\n",
       "    <tr>\n",
       "      <th>1894</th>\n",
       "      <td>Volkswagen</td>\n",
       "      <td>T-Roc</td>\n",
       "      <td>SUV</td>\n",
       "      <td>21.35</td>\n",
       "      <td>2021</td>\n",
       "      <td>12</td>\n",
       "      <td>NaN</td>\n",
       "      <td>3700.0</td>\n",
       "    </tr>\n",
       "    <tr>\n",
       "      <th>1895</th>\n",
       "      <td>Volkswagen</td>\n",
       "      <td>Vento</td>\n",
       "      <td>Sedan</td>\n",
       "      <td>10.00</td>\n",
       "      <td>2021</td>\n",
       "      <td>12</td>\n",
       "      <td>70.0</td>\n",
       "      <td>3700.0</td>\n",
       "    </tr>\n",
       "  </tbody>\n",
       "</table>\n",
       "<p>1896 rows × 8 columns</p>\n",
       "</div>"
      ],
      "text/plain": [
       "             OEM    MODEL  BODY TYPE  PRICE IN LAKHS  YEAR  MONTH    SALE  \\\n",
       "0         Datsun       Go  Hatchback            4.03  2020      1    88.0   \n",
       "1         Datsun  Go Plus        MUV            4.26  2020      1    55.0   \n",
       "2         Datsun   RediGo  Hatchback            3.98  2020      1  1020.0   \n",
       "3          Honda    Amaze      Sedan            6.39  2020      1  3160.0   \n",
       "4          Honda     City      Sedan           11.23  2020      1  1734.0   \n",
       "...          ...      ...        ...             ...   ...    ...     ...   \n",
       "1891  Volkswagen     Polo  Hatchback            6.49  2021     12   762.0   \n",
       "1892  Volkswagen   Taigun        SUV           11.00  2021     12  2828.0   \n",
       "1893  Volkswagen   Tiguan        SUV           11.00  2021     12    40.0   \n",
       "1894  Volkswagen    T-Roc        SUV           21.35  2021     12     NaN   \n",
       "1895  Volkswagen    Vento      Sedan           10.00  2021     12    70.0   \n",
       "\n",
       "      SALE OUT OF  \n",
       "0          1163.0  \n",
       "1          1163.0  \n",
       "2          1163.0  \n",
       "3          5239.0  \n",
       "4          5239.0  \n",
       "...           ...  \n",
       "1891       3700.0  \n",
       "1892       3700.0  \n",
       "1893       3700.0  \n",
       "1894       3700.0  \n",
       "1895       3700.0  \n",
       "\n",
       "[1896 rows x 8 columns]"
      ]
     },
     "execution_count": 61,
     "metadata": {},
     "output_type": "execute_result"
    }
   ],
   "source": [
    "df"
   ]
  },
  {
   "cell_type": "code",
   "execution_count": 62,
   "id": "14a4eddf-6061-4231-9751-a49b50a836f3",
   "metadata": {},
   "outputs": [
    {
     "name": "stdout",
     "output_type": "stream",
     "text": [
      "<class 'pandas.core.frame.DataFrame'>\n",
      "RangeIndex: 1896 entries, 0 to 1895\n",
      "Data columns (total 8 columns):\n",
      " #   Column          Non-Null Count  Dtype  \n",
      "---  ------          --------------  -----  \n",
      " 0   OEM             1896 non-null   object \n",
      " 1   MODEL           1896 non-null   object \n",
      " 2   BODY TYPE       1896 non-null   object \n",
      " 3   PRICE IN LAKHS  1896 non-null   float64\n",
      " 4   YEAR            1896 non-null   int64  \n",
      " 5   MONTH           1896 non-null   int64  \n",
      " 6   SALE            1612 non-null   float64\n",
      " 7   SALE OUT OF     1821 non-null   float64\n",
      "dtypes: float64(3), int64(2), object(3)\n",
      "memory usage: 118.6+ KB\n"
     ]
    }
   ],
   "source": [
    "df.info()"
   ]
  },
  {
   "cell_type": "code",
   "execution_count": 63,
   "id": "c4f99f10-c24b-4171-86bf-e95ce33d74a3",
   "metadata": {},
   "outputs": [
    {
     "data": {
      "text/plain": [
       "SUV          834\n",
       "Hatchback    432\n",
       "Sedan        348\n",
       "MUV          186\n",
       "Van           72\n",
       "Electric      24\n",
       "Name: BODY TYPE, dtype: int64"
      ]
     },
     "execution_count": 63,
     "metadata": {},
     "output_type": "execute_result"
    }
   ],
   "source": [
    "df['BODY TYPE'].value_counts()"
   ]
  },
  {
   "cell_type": "code",
   "execution_count": 64,
   "id": "0f72850d-97dd-45a9-95f4-7aeaef5b5710",
   "metadata": {},
   "outputs": [
    {
     "data": {
      "text/html": [
       "<div>\n",
       "<style scoped>\n",
       "    .dataframe tbody tr th:only-of-type {\n",
       "        vertical-align: middle;\n",
       "    }\n",
       "\n",
       "    .dataframe tbody tr th {\n",
       "        vertical-align: top;\n",
       "    }\n",
       "\n",
       "    .dataframe thead th {\n",
       "        text-align: right;\n",
       "    }\n",
       "</style>\n",
       "<table border=\"1\" class=\"dataframe\">\n",
       "  <thead>\n",
       "    <tr style=\"text-align: right;\">\n",
       "      <th></th>\n",
       "      <th>PRICE IN LAKHS</th>\n",
       "      <th>SALE</th>\n",
       "      <th>SALE OUT OF</th>\n",
       "    </tr>\n",
       "  </thead>\n",
       "  <tbody>\n",
       "    <tr>\n",
       "      <th>count</th>\n",
       "      <td>1896.000000</td>\n",
       "      <td>1612.000000</td>\n",
       "      <td>1821.000000</td>\n",
       "    </tr>\n",
       "    <tr>\n",
       "      <th>mean</th>\n",
       "      <td>13.496709</td>\n",
       "      <td>3363.013027</td>\n",
       "      <td>31949.901702</td>\n",
       "    </tr>\n",
       "    <tr>\n",
       "      <th>std</th>\n",
       "      <td>12.950518</td>\n",
       "      <td>4414.731147</td>\n",
       "      <td>43394.165777</td>\n",
       "    </tr>\n",
       "    <tr>\n",
       "      <th>min</th>\n",
       "      <td>3.130000</td>\n",
       "      <td>1.000000</td>\n",
       "      <td>23.000000</td>\n",
       "    </tr>\n",
       "    <tr>\n",
       "      <th>25%</th>\n",
       "      <td>6.000000</td>\n",
       "      <td>181.750000</td>\n",
       "      <td>3336.000000</td>\n",
       "    </tr>\n",
       "    <tr>\n",
       "      <th>50%</th>\n",
       "      <td>9.290000</td>\n",
       "      <td>1632.000000</td>\n",
       "      <td>13002.000000</td>\n",
       "    </tr>\n",
       "    <tr>\n",
       "      <th>75%</th>\n",
       "      <td>15.000000</td>\n",
       "      <td>4462.750000</td>\n",
       "      <td>38200.000000</td>\n",
       "    </tr>\n",
       "    <tr>\n",
       "      <th>max</th>\n",
       "      <td>89.850000</td>\n",
       "      <td>24589.000000</td>\n",
       "      <td>163656.000000</td>\n",
       "    </tr>\n",
       "  </tbody>\n",
       "</table>\n",
       "</div>"
      ],
      "text/plain": [
       "       PRICE IN LAKHS          SALE    SALE OUT OF\n",
       "count     1896.000000   1612.000000    1821.000000\n",
       "mean        13.496709   3363.013027   31949.901702\n",
       "std         12.950518   4414.731147   43394.165777\n",
       "min          3.130000      1.000000      23.000000\n",
       "25%          6.000000    181.750000    3336.000000\n",
       "50%          9.290000   1632.000000   13002.000000\n",
       "75%         15.000000   4462.750000   38200.000000\n",
       "max         89.850000  24589.000000  163656.000000"
      ]
     },
     "execution_count": 64,
     "metadata": {},
     "output_type": "execute_result"
    }
   ],
   "source": [
    "df[['PRICE IN LAKHS','SALE','SALE OUT OF']].describe()"
   ]
  },
  {
   "cell_type": "code",
   "execution_count": 65,
   "id": "cc186686-ad67-48f9-b4dd-93ecb48adf3a",
   "metadata": {},
   "outputs": [],
   "source": [
    "df = df.drop(columns = ['SALE OUT OF'],axis =1)"
   ]
  },
  {
   "cell_type": "code",
   "execution_count": 66,
   "id": "52a5e055-9b62-46b7-b908-6c4581c410c6",
   "metadata": {},
   "outputs": [
    {
     "data": {
      "text/plain": [
       "OEM                 0\n",
       "MODEL               0\n",
       "BODY TYPE           0\n",
       "PRICE IN LAKHS      0\n",
       "YEAR                0\n",
       "MONTH               0\n",
       "SALE              284\n",
       "dtype: int64"
      ]
     },
     "execution_count": 66,
     "metadata": {},
     "output_type": "execute_result"
    }
   ],
   "source": [
    "#checking missing values\n",
    "df.isnull().sum()"
   ]
  },
  {
   "cell_type": "code",
   "execution_count": 67,
   "id": "e40d9687-d4e2-44b3-8621-a78c74372b16",
   "metadata": {},
   "outputs": [],
   "source": [
    "#replacing missing values\n",
    "df['SALE'].fillna(0,inplace = True)"
   ]
  },
  {
   "cell_type": "code",
   "execution_count": 68,
   "id": "175c434f-d542-4524-8144-2c324aeaccb7",
   "metadata": {},
   "outputs": [
    {
     "name": "stdout",
     "output_type": "stream",
     "text": [
      "<class 'pandas.core.frame.DataFrame'>\n",
      "RangeIndex: 1896 entries, 0 to 1895\n",
      "Data columns (total 7 columns):\n",
      " #   Column          Non-Null Count  Dtype  \n",
      "---  ------          --------------  -----  \n",
      " 0   OEM             1896 non-null   object \n",
      " 1   MODEL           1896 non-null   object \n",
      " 2   BODY TYPE       1896 non-null   object \n",
      " 3   PRICE IN LAKHS  1896 non-null   float64\n",
      " 4   YEAR            1896 non-null   int64  \n",
      " 5   MONTH           1896 non-null   int64  \n",
      " 6   SALE            1896 non-null   float64\n",
      "dtypes: float64(2), int64(2), object(3)\n",
      "memory usage: 103.8+ KB\n"
     ]
    }
   ],
   "source": [
    "df.info()"
   ]
  },
  {
   "cell_type": "code",
   "execution_count": 69,
   "id": "81fed04d-9fd9-45da-96f2-4bf30459e53c",
   "metadata": {},
   "outputs": [
    {
     "name": "stderr",
     "output_type": "stream",
     "text": [
      "C:\\Users\\hb728\\anaconda3\\lib\\site-packages\\seaborn\\_decorators.py:36: FutureWarning: Pass the following variable as a keyword arg: x. From version 0.12, the only valid positional argument will be `data`, and passing other arguments without an explicit keyword will result in an error or misinterpretation.\n",
      "  warnings.warn(\n"
     ]
    },
    {
     "data": {
      "image/png": "[encoded data removed]",
      "text/plain": [
       "<Figure size 720x432 with 1 Axes>"
      ]
     },
     "metadata": {
      "needs_background": "light"
     },
     "output_type": "display_data"
    }
   ],
   "source": [
    "#checking outliers\n",
    "plt.figure(figsize = (10,6))\n",
    "sns.boxplot(df['SALE'])\n",
    "plt.title('SALE',size =15)\n",
    "plt.show()"
   ]
  },
  {
   "cell_type": "code",
   "execution_count": 70,
   "id": "ae815213-a960-4261-97b6-bc931543271f",
   "metadata": {},
   "outputs": [],
   "source": [
    "#removing of outliers\n",
    "def remove_outliers(col):\n",
    "    sorted(col)\n",
    "    Q1,Q3 = col.quantile([0.25,0.75])\n",
    "    IQR = Q3-Q1\n",
    "    Lower_range = Q1-(1.5*IQR)\n",
    "    Upper_range = Q3+(1.5*IQR)\n",
    "    return Lower_range,Upper_range"
   ]
  },
  {
   "cell_type": "code",
   "execution_count": 71,
   "id": "11358b55-3147-4fb3-a0fb-a615fa04b6da",
   "metadata": {},
   "outputs": [],
   "source": [
    "Lowersale,uppersale = remove_outliers(df['SALE'])"
   ]
  },
  {
   "cell_type": "code",
   "execution_count": 72,
   "id": "33a60acc-27f5-4185-9abd-1718c9ab2571",
   "metadata": {},
   "outputs": [
    {
     "data": {
      "text/plain": [
       "-5533.75"
      ]
     },
     "execution_count": 72,
     "metadata": {},
     "output_type": "execute_result"
    }
   ],
   "source": [
    "Lowersale"
   ]
  },
  {
   "cell_type": "code",
   "execution_count": 73,
   "id": "6f209e94-eeb4-4d93-8253-cab3bd870d0e",
   "metadata": {},
   "outputs": [
    {
     "data": {
      "text/plain": [
       "9334.25"
      ]
     },
     "execution_count": 73,
     "metadata": {},
     "output_type": "execute_result"
    }
   ],
   "source": [
    "uppersale"
   ]
  },
  {
   "cell_type": "code",
   "execution_count": 74,
   "id": "f29437f7-d739-494d-856a-451437c69b34",
   "metadata": {},
   "outputs": [],
   "source": [
    "df['SALE'] = np.where(df['SALE']>uppersale,uppersale,df['SALE'])\n",
    "df['SALE'] = np.where(df['SALE']<Lowersale,Lowersale,df['SALE'])"
   ]
  },
  {
   "cell_type": "code",
   "execution_count": 82,
   "id": "9ea2bea5-2cd1-4fb5-bf8c-73682b92a857",
   "metadata": {},
   "outputs": [
    {
     "name": "stderr",
     "output_type": "stream",
     "text": [
      "C:\\Users\\hb728\\anaconda3\\lib\\site-packages\\seaborn\\_decorators.py:36: FutureWarning: Pass the following variable as a keyword arg: x. From version 0.12, the only valid positional argument will be `data`, and passing other arguments without an explicit keyword will result in an error or misinterpretation.\n",
      "  warnings.warn(\n"
     ]
    },
    {
     "data": {
      "image/png": "[encoded data removed]",
      "text/plain": [
       "<Figure size 1080x432 with 1 Axes>"
      ]
     },
     "metadata": {
      "needs_background": "light"
     },
     "output_type": "display_data"
    }
   ],
   "source": [
    "plt.figure(figsize = (15,6))\n",
    "sns.boxplot(df['SALE'])\n",
    "plt.title('SALE',size =15)\n",
    "plt.show()"
   ]
  },
  {
   "cell_type": "code",
   "execution_count": 76,
   "id": "b82d5583-2586-482c-95e6-bea5dda7d2cc",
   "metadata": {},
   "outputs": [
    {
     "data": {
      "image/png": "[encoded data removed]",
      "text/plain": [
       "<Figure size 1080x720 with 1 Axes>"
      ]
     },
     "metadata": {
      "needs_background": "light"
     },
     "output_type": "display_data"
    }
   ],
   "source": [
    "plt.figure(figsize = (15,10))\n",
    "sns.scatterplot(data=df,x = 'PRICE IN LAKHS',y='SALE',hue = 'BODY TYPE',alpha = .89,s =120)\n",
    "plt.title('Sales of car by there Body and Price')\n",
    "plt.show()\n"
   ]
  },
  {
   "cell_type": "code",
   "execution_count": 77,
   "id": "c220d507-e2eb-4fc6-8d84-587dd19730cf",
   "metadata": {},
   "outputs": [
    {
     "data": {
      "text/html": [
       "<div>\n",
       "<style scoped>\n",
       "    .dataframe tbody tr th:only-of-type {\n",
       "        vertical-align: middle;\n",
       "    }\n",
       "\n",
       "    .dataframe tbody tr th {\n",
       "        vertical-align: top;\n",
       "    }\n",
       "\n",
       "    .dataframe thead th {\n",
       "        text-align: right;\n",
       "    }\n",
       "</style>\n",
       "<table border=\"1\" class=\"dataframe\">\n",
       "  <thead>\n",
       "    <tr style=\"text-align: right;\">\n",
       "      <th></th>\n",
       "      <th>PRICE IN LAKHS</th>\n",
       "      <th>YEAR</th>\n",
       "      <th>MONTH</th>\n",
       "      <th>SALE</th>\n",
       "    </tr>\n",
       "  </thead>\n",
       "  <tbody>\n",
       "    <tr>\n",
       "      <th>PRICE IN LAKHS</th>\n",
       "      <td>1.000000</td>\n",
       "      <td>0.000147</td>\n",
       "      <td>-0.004222</td>\n",
       "      <td>-0.357019</td>\n",
       "    </tr>\n",
       "    <tr>\n",
       "      <th>YEAR</th>\n",
       "      <td>0.000147</td>\n",
       "      <td>1.000000</td>\n",
       "      <td>-0.005921</td>\n",
       "      <td>0.091181</td>\n",
       "    </tr>\n",
       "    <tr>\n",
       "      <th>MONTH</th>\n",
       "      <td>-0.004222</td>\n",
       "      <td>-0.005921</td>\n",
       "      <td>1.000000</td>\n",
       "      <td>0.050189</td>\n",
       "    </tr>\n",
       "    <tr>\n",
       "      <th>SALE</th>\n",
       "      <td>-0.357019</td>\n",
       "      <td>0.091181</td>\n",
       "      <td>0.050189</td>\n",
       "      <td>1.000000</td>\n",
       "    </tr>\n",
       "  </tbody>\n",
       "</table>\n",
       "</div>"
      ],
      "text/plain": [
       "                PRICE IN LAKHS      YEAR     MONTH      SALE\n",
       "PRICE IN LAKHS        1.000000  0.000147 -0.004222 -0.357019\n",
       "YEAR                  0.000147  1.000000 -0.005921  0.091181\n",
       "MONTH                -0.004222 -0.005921  1.000000  0.050189\n",
       "SALE                 -0.357019  0.091181  0.050189  1.000000"
      ]
     },
     "execution_count": 77,
     "metadata": {},
     "output_type": "execute_result"
    }
   ],
   "source": [
    "df.corr()"
   ]
  },
  {
   "cell_type": "code",
   "execution_count": 79,
   "id": "2d3db409-33ca-4ad6-b446-593601b94496",
   "metadata": {},
   "outputs": [
    {
     "data": {
      "text/plain": [
       "Text(0.5, 1.0, 'Crrelation of Dataset')"
      ]
     },
     "execution_count": 79,
     "metadata": {},
     "output_type": "execute_result"
    },
    {
     "data": {
      "image/png": "[encoded data removed]",
      "text/plain": [
       "<Figure size 1080x720 with 2 Axes>"
      ]
     },
     "metadata": {
      "needs_background": "light"
     },
     "output_type": "display_data"
    }
   ],
   "source": [
    "plt.figure(figsize = (15,10))\n",
    "sns.heatmap(df.corr(),annot = True,fmt = '.2%')\n",
    "plt.title(\"Crrelation of Dataset\")"
   ]
  },
  {
   "cell_type": "code",
   "execution_count": 100,
   "id": "c99d0b00-fd15-4c86-a91b-9e1c61870472",
   "metadata": {},
   "outputs": [
    {
     "data": {
      "image/png": "[encoded data removed]",
      "text/plain": [
       "<Figure size 720x576 with 1 Axes>"
      ]
     },
     "metadata": {
      "needs_background": "light"
     },
     "output_type": "display_data"
    }
   ],
   "source": [
    "plt.figure(figsize = (10,8))\n",
    "plt.hist(df['PRICE IN LAKHS'],bins =20)\n",
    "plt.xlabel(\"Price in Lakhs\")\n",
    "plt.ylabel(\"Frequency\")\n",
    "plt.title(\"Histogram showing the distribution of the variable - 'PRICE IN LAKHS'\")\n",
    "plt.show()"
   ]
  },
  {
   "cell_type": "code",
   "execution_count": 81,
   "id": "df70be01-b9f4-4629-819e-f25a26e08f77",
   "metadata": {},
   "outputs": [
    {
     "name": "stdout",
     "output_type": "stream",
     "text": [
      "<class 'pandas.core.frame.DataFrame'>\n",
      "RangeIndex: 1896 entries, 0 to 1895\n",
      "Data columns (total 7 columns):\n",
      " #   Column          Non-Null Count  Dtype  \n",
      "---  ------          --------------  -----  \n",
      " 0   OEM             1896 non-null   object \n",
      " 1   MODEL           1896 non-null   object \n",
      " 2   BODY TYPE       1896 non-null   object \n",
      " 3   PRICE IN LAKHS  1896 non-null   float64\n",
      " 4   YEAR            1896 non-null   int64  \n",
      " 5   MONTH           1896 non-null   int64  \n",
      " 6   SALE            1896 non-null   float64\n",
      "dtypes: float64(2), int64(2), object(3)\n",
      "memory usage: 103.8+ KB\n"
     ]
    }
   ],
   "source": [
    "df.info()"
   ]
  },
  {
   "cell_type": "code",
   "execution_count": 86,
   "id": "2986d0ca-f9da-415b-9011-c40f6e13f4ef",
   "metadata": {},
   "outputs": [
    {
     "data": {
      "text/plain": [
       "SUV          834\n",
       "Hatchback    432\n",
       "Sedan        348\n",
       "MUV          186\n",
       "Van           72\n",
       "Electric      24\n",
       "Name: BODY TYPE, dtype: int64"
      ]
     },
     "execution_count": 86,
     "metadata": {},
     "output_type": "execute_result"
    }
   ],
   "source": [
    "df[\"BODY TYPE\"].value_counts()"
   ]
  },
  {
   "cell_type": "code",
   "execution_count": 87,
   "id": "ce9f5e0f-2e08-4b40-983d-e0d30e86bce9",
   "metadata": {},
   "outputs": [
    {
     "data": {
      "text/plain": [
       "Go        24\n",
       "Dzire     24\n",
       "Kodiaq    24\n",
       "Triber    24\n",
       "Kwid      24\n",
       "          ..\n",
       "XUV700     6\n",
       "Astor      6\n",
       "Kushaq     6\n",
       "Punch      6\n",
       "Taigun     6\n",
       "Name: MODEL, Length: 89, dtype: int64"
      ]
     },
     "execution_count": 87,
     "metadata": {},
     "output_type": "execute_result"
    }
   ],
   "source": [
    "df['MODEL'].value_counts()"
   ]
  },
  {
   "cell_type": "code",
   "execution_count": 88,
   "id": "a2493e04-fbfc-4111-8ce9-ad4c312f5907",
   "metadata": {},
   "outputs": [
    {
     "data": {
      "text/plain": [
       "Maruti Suzuki    348\n",
       "Hyundai          252\n",
       "Mahindra         234\n",
       "Toyota           162\n",
       "Tata             150\n",
       "Honda            132\n",
       "Skoda            120\n",
       "Volkswagen       102\n",
       "Renault           96\n",
       "Datsun            72\n",
       "MG                72\n",
       "Kia               66\n",
       "Jeep              48\n",
       "Nissan            42\n",
       "Name: OEM, dtype: int64"
      ]
     },
     "execution_count": 88,
     "metadata": {},
     "output_type": "execute_result"
    }
   ],
   "source": [
    "df['OEM'].value_counts()"
   ]
  },
  {
   "cell_type": "code",
   "execution_count": 214,
   "id": "3a0d647e-0a23-40d1-8859-7e467743cbdd",
   "metadata": {},
   "outputs": [],
   "source": [
    "x = df.iloc[:,0:6]\n",
    "y = df.iloc[:,-1]"
   ]
  },
  {
   "cell_type": "code",
   "execution_count": 215,
   "id": "128bd814-5421-4472-bd1d-65558178e84f",
   "metadata": {},
   "outputs": [],
   "source": [
    "from sklearn.model_selection import train_test_split\n",
    "x_train,x_test,y_train,y_test = train_test_split(x,y,test_size= 0.2)"
   ]
  },
  {
   "cell_type": "code",
   "execution_count": 216,
   "id": "0d40eafb-1d7e-4d91-af01-8791b2afe7d5",
   "metadata": {},
   "outputs": [],
   "source": [
    "from sklearn.preprocessing import OneHotEncoder\n",
    "from sklearn.compose import make_column_transformer"
   ]
  },
  {
   "cell_type": "code",
   "execution_count": 217,
   "id": "cc8aacb9-4f13-4341-ae79-e8eb6779cef7",
   "metadata": {},
   "outputs": [
    {
     "data": {
      "text/plain": [
       "OneHotEncoder()"
      ]
     },
     "execution_count": 217,
     "metadata": {},
     "output_type": "execute_result"
    }
   ],
   "source": [
    "ohe = OneHotEncoder()\n",
    "ohe.fit(x[['OEM','MODEL','BODY TYPE']])"
   ]
  },
  {
   "cell_type": "code",
   "execution_count": 218,
   "id": "ccf9b029-d3cf-4ad3-9672-cfe687e840af",
   "metadata": {},
   "outputs": [],
   "source": [
    "col_trans = make_column_transformer((OneHotEncoder(categories=ohe.categories_),['OEM','MODEL','BODY TYPE']),remainder = 'passthrough')"
   ]
  },
  {
   "cell_type": "code",
   "execution_count": 219,
   "id": "c58e3814-5431-47d2-a132-491ca509be9c",
   "metadata": {},
   "outputs": [],
   "source": [
    "#Linearregression\n",
    "from sklearn.linear_model import LinearRegression\n",
    "lr = LinearRegression()"
   ]
  },
  {
   "cell_type": "code",
   "execution_count": 220,
   "id": "c9878fc7-bb7c-440f-8f55-94d509259bbf",
   "metadata": {},
   "outputs": [],
   "source": [
    "from sklearn.pipeline import make_pipeline"
   ]
  },
  {
   "cell_type": "code",
   "execution_count": 221,
   "id": "d29a4436-e3a1-4867-816e-8e149b9f4696",
   "metadata": {},
   "outputs": [],
   "source": [
    "lr_pipe = make_pipeline(col_trans,lr)"
   ]
  },
  {
   "cell_type": "code",
   "execution_count": 222,
   "id": "c5e12106-c052-4e8c-9d17-837da122e91d",
   "metadata": {},
   "outputs": [
    {
     "data": {
      "text/plain": [
       "Pipeline(steps=[('columntransformer',\n",
       "                 ColumnTransformer(remainder='passthrough',\n",
       "                                   transformers=[('onehotencoder',\n",
       "                                                  OneHotEncoder(categories=[array(['Datsun', 'Honda', 'Hyundai', 'Jeep', 'Kia', 'MG', 'Mahindra',\n",
       "       'Maruti Suzuki', 'Nissan', 'Renault', 'Skoda', 'Tata', 'Toyota',\n",
       "       'Volkswagen'], dtype=object),\n",
       "                                                                            array(['Alcazar', 'Alto', 'Altroz', 'Alturas G4', 'Amaze', 'Astor',\n",
       "       'Bal...\n",
       "       'Thar', 'Tiago', 'Tigor', 'Tiguan', 'Triber', 'Tucson',\n",
       "       'Urban Cruiser', 'Vellfire', 'Vento', 'Venue', 'Verito, Vibe',\n",
       "       'Verna', 'Vitara Brezza', 'WRV', 'WagonR', 'Wrangler', 'XL6',\n",
       "       'XUV300', 'XUV500', 'XUV700', 'Xcent, Aura', 'Yaris', 'ZS EV',\n",
       "       'i20'], dtype=object),\n",
       "                                                                            array(['Electric', 'Hatchback', 'MUV', 'SUV', 'Sedan', 'Van'],\n",
       "      dtype=object)]),\n",
       "                                                  ['OEM', 'MODEL',\n",
       "                                                   'BODY TYPE'])])),\n",
       "                ('linearregression', LinearRegression())])"
      ]
     },
     "execution_count": 222,
     "metadata": {},
     "output_type": "execute_result"
    }
   ],
   "source": [
    "lr_pipe.fit(x_train,y_train)"
   ]
  },
  {
   "cell_type": "code",
   "execution_count": 223,
   "id": "02e2d3cc-8515-4302-b1ee-7c0f5a154e9b",
   "metadata": {},
   "outputs": [],
   "source": [
    "y_pred = lr_pipe.predict(x_test)\n"
   ]
  },
  {
   "cell_type": "code",
   "execution_count": 224,
   "id": "089e90e2-18b0-432a-b9fe-8739a10ccc9b",
   "metadata": {},
   "outputs": [],
   "source": [
    "from sklearn.metrics import r2_score"
   ]
  },
  {
   "cell_type": "code",
   "execution_count": 225,
   "id": "085ba62d-8ce1-4d32-9911-020ee8d6cfee",
   "metadata": {},
   "outputs": [],
   "source": [
    "scores = []\n",
    "for i in range(1000):\n",
    "    x_train, x_test, y_train, y_test= train_test_split(x, y, test_size=0.2,random_state=i)\n",
    "    lr= LinearRegression()\n",
    "    lr_pipe = make_pipeline(col_trans,lr)\n",
    "    lr_pipe.fit(x_train, y_train)\n",
    "    y_pred=lr_pipe.predict(x_test)\n",
    "    scores.append(r2_score(y_test, y_pred))"
   ]
  },
  {
   "cell_type": "code",
   "execution_count": 226,
   "id": "4740b34b-e62f-4ade-93de-941941bc6d7c",
   "metadata": {},
   "outputs": [
    {
     "data": {
      "text/plain": [
       "902"
      ]
     },
     "execution_count": 226,
     "metadata": {},
     "output_type": "execute_result"
    }
   ],
   "source": [
    "np.argmax(scores)"
   ]
  },
  {
   "cell_type": "code",
   "execution_count": 227,
   "id": "55a46de6-6df4-466e-8fd5-be79e5f29dab",
   "metadata": {},
   "outputs": [
    {
     "data": {
      "text/plain": [
       "0.8396894105571325"
      ]
     },
     "execution_count": 227,
     "metadata": {},
     "output_type": "execute_result"
    }
   ],
   "source": [
    "scores[np.argmax(scores)]"
   ]
  },
  {
   "cell_type": "code",
   "execution_count": 228,
   "id": "f9d50f72-c46a-45f9-88bb-62668ac7d4b9",
   "metadata": {},
   "outputs": [
    {
     "data": {
      "text/plain": [
       "0.8396894105571325"
      ]
     },
     "execution_count": 228,
     "metadata": {},
     "output_type": "execute_result"
    }
   ],
   "source": [
    "x_train, x_test, y_train, y_test= train_test_split(x, y, test_size=0.2,random_state=np.argmax(scores))\n",
    "lr= LinearRegression()\n",
    "lr_pipe = make_pipeline(col_trans,lr)\n",
    "lr_pipe.fit(x_train, y_train)\n",
    "y_pred=lr_pipe.predict(x_test)\n",
    "r2_lr=r2_score(y_test,y_pred)\n",
    "r2_lr"
   ]
  },
  {
   "cell_type": "code",
   "execution_count": 229,
   "id": "e8cd420e-f57e-47da-b00d-9aec7ecdca89",
   "metadata": {},
   "outputs": [],
   "source": [
    "from sklearn.ensemble import RandomForestRegressor\n",
    "rfr = RandomForestRegressor(n_estimators = 10, random_state = 0)"
   ]
  },
  {
   "cell_type": "code",
   "execution_count": 230,
   "id": "51b24f96-2120-4fa0-88d1-b4dcf946f05d",
   "metadata": {},
   "outputs": [],
   "source": [
    "rfr_pipeline  = make_pipeline(col_trans,rfr)"
   ]
  },
  {
   "cell_type": "code",
   "execution_count": 231,
   "id": "4e8c9685-97fa-4df3-91ad-0481a8771b6d",
   "metadata": {},
   "outputs": [
    {
     "data": {
      "text/plain": [
       "Pipeline(steps=[('columntransformer',\n",
       "                 ColumnTransformer(remainder='passthrough',\n",
       "                                   transformers=[('onehotencoder',\n",
       "                                                  OneHotEncoder(categories=[array(['Datsun', 'Honda', 'Hyundai', 'Jeep', 'Kia', 'MG', 'Mahindra',\n",
       "       'Maruti Suzuki', 'Nissan', 'Renault', 'Skoda', 'Tata', 'Toyota',\n",
       "       'Volkswagen'], dtype=object),\n",
       "                                                                            array(['Alcazar', 'Alto', 'Altroz', 'Alturas G4', 'Amaze', 'Astor',\n",
       "       'Bal...\n",
       "       'Urban Cruiser', 'Vellfire', 'Vento', 'Venue', 'Verito, Vibe',\n",
       "       'Verna', 'Vitara Brezza', 'WRV', 'WagonR', 'Wrangler', 'XL6',\n",
       "       'XUV300', 'XUV500', 'XUV700', 'Xcent, Aura', 'Yaris', 'ZS EV',\n",
       "       'i20'], dtype=object),\n",
       "                                                                            array(['Electric', 'Hatchback', 'MUV', 'SUV', 'Sedan', 'Van'],\n",
       "      dtype=object)]),\n",
       "                                                  ['OEM', 'MODEL',\n",
       "                                                   'BODY TYPE'])])),\n",
       "                ('randomforestregressor',\n",
       "                 RandomForestRegressor(n_estimators=10, random_state=0))])"
      ]
     },
     "execution_count": 231,
     "metadata": {},
     "output_type": "execute_result"
    }
   ],
   "source": [
    "rfr_pipeline.fit(x_train,y_train)"
   ]
  },
  {
   "cell_type": "code",
   "execution_count": 232,
   "id": "9618c428-81a9-492d-b6db-707f5f2b169f",
   "metadata": {},
   "outputs": [],
   "source": [
    "y_pred = rfr_pipeline.predict(x_test)"
   ]
  },
  {
   "cell_type": "code",
   "execution_count": 233,
   "id": "6d2c9620-775c-40fe-8236-7cfbe2d21444",
   "metadata": {},
   "outputs": [],
   "source": [
    "scores=[]\n",
    "for i in range(1000):\n",
    "    x_train, x_test, y_train, y_test= train_test_split(x, y, test_size=0.2,random_state=i)\n",
    "    rfr=RandomForestRegressor(n_estimators = 10)\n",
    "    rfr_pipeline = make_pipeline(col_trans,rfr)\n",
    "    rfr_pipeline.fit(x_train, y_train)\n",
    "    y_pred=rfr_pipeline.predict(x_test)\n",
    "    scores.append(r2_score(y_test, y_pred))"
   ]
  },
  {
   "cell_type": "code",
   "execution_count": 234,
   "id": "7207ba5a-c4b6-4e56-a5bc-867e809bb9f8",
   "metadata": {},
   "outputs": [
    {
     "data": {
      "text/plain": [
       "437"
      ]
     },
     "execution_count": 234,
     "metadata": {},
     "output_type": "execute_result"
    }
   ],
   "source": [
    "np.argmax(scores)"
   ]
  },
  {
   "cell_type": "code",
   "execution_count": 235,
   "id": "cc04e3f4-7acf-49a8-87a7-e2f57052a5c6",
   "metadata": {},
   "outputs": [
    {
     "data": {
      "text/plain": [
       "0.9385698915369527"
      ]
     },
     "execution_count": 235,
     "metadata": {},
     "output_type": "execute_result"
    }
   ],
   "source": [
    "scores[np.argmax(scores)]"
   ]
  },
  {
   "cell_type": "code",
   "execution_count": 236,
   "id": "55185466-df39-4523-9bdb-1a3d193221a2",
   "metadata": {},
   "outputs": [
    {
     "data": {
      "text/plain": [
       "0.9220996731864004"
      ]
     },
     "execution_count": 236,
     "metadata": {},
     "output_type": "execute_result"
    }
   ],
   "source": [
    "x_train, x_test, y_train, y_test= train_test_split(x, y, test_size=0.2,random_state=np.argmax(scores))\n",
    "rfr=RandomForestRegressor(n_estimators = 10)\n",
    "rfr_pipeline = make_pipeline(col_trans,rfr)\n",
    "rfr_pipeline.fit(x_train, y_train)\n",
    "y_pred=rfr_pipeline.predict(x_test)\n",
    "r2_rfr=r2_score(y_test,y_pred)\n",
    "r2_rfr"
   ]
  },
  {
   "cell_type": "code",
   "execution_count": 237,
   "id": "40ba19e8-a8d8-4ef4-9162-43a1decf9bbd",
   "metadata": {},
   "outputs": [],
   "source": [
    "from sklearn.tree import DecisionTreeRegressor\n",
    "dtr = DecisionTreeRegressor()"
   ]
  },
  {
   "cell_type": "code",
   "execution_count": 238,
   "id": "391f5a91-0f2a-47ac-bb7a-f67518242e5a",
   "metadata": {},
   "outputs": [],
   "source": [
    "dtr_pipe = make_pipeline(col_trans,dtr)"
   ]
  },
  {
   "cell_type": "code",
   "execution_count": 239,
   "id": "994daeb3-e373-474b-ab32-340ad2a6f9fc",
   "metadata": {},
   "outputs": [
    {
     "data": {
      "text/plain": [
       "Pipeline(steps=[('columntransformer',\n",
       "                 ColumnTransformer(remainder='passthrough',\n",
       "                                   transformers=[('onehotencoder',\n",
       "                                                  OneHotEncoder(categories=[array(['Datsun', 'Honda', 'Hyundai', 'Jeep', 'Kia', 'MG', 'Mahindra',\n",
       "       'Maruti Suzuki', 'Nissan', 'Renault', 'Skoda', 'Tata', 'Toyota',\n",
       "       'Volkswagen'], dtype=object),\n",
       "                                                                            array(['Alcazar', 'Alto', 'Altroz', 'Alturas G4', 'Amaze', 'Astor',\n",
       "       'Bal...\n",
       "       'Thar', 'Tiago', 'Tigor', 'Tiguan', 'Triber', 'Tucson',\n",
       "       'Urban Cruiser', 'Vellfire', 'Vento', 'Venue', 'Verito, Vibe',\n",
       "       'Verna', 'Vitara Brezza', 'WRV', 'WagonR', 'Wrangler', 'XL6',\n",
       "       'XUV300', 'XUV500', 'XUV700', 'Xcent, Aura', 'Yaris', 'ZS EV',\n",
       "       'i20'], dtype=object),\n",
       "                                                                            array(['Electric', 'Hatchback', 'MUV', 'SUV', 'Sedan', 'Van'],\n",
       "      dtype=object)]),\n",
       "                                                  ['OEM', 'MODEL',\n",
       "                                                   'BODY TYPE'])])),\n",
       "                ('decisiontreeregressor', DecisionTreeRegressor())])"
      ]
     },
     "execution_count": 239,
     "metadata": {},
     "output_type": "execute_result"
    }
   ],
   "source": [
    "dtr_pipe.fit(x_train,y_train)"
   ]
  },
  {
   "cell_type": "code",
   "execution_count": 240,
   "id": "f554418b-4908-40fc-a4a9-0f8cdd78ea7f",
   "metadata": {},
   "outputs": [],
   "source": [
    "y_pred = dtr_pipe.predict(x_test)"
   ]
  },
  {
   "cell_type": "code",
   "execution_count": 241,
   "id": "5538ca39-b525-431a-b08a-a11d70b07f3d",
   "metadata": {},
   "outputs": [],
   "source": [
    "scores=[]\n",
    "for i in range(1000):\n",
    "    x_train, x_test, y_train, y_test= train_test_split(x, y, test_size=0.2,random_state=i)\n",
    "    dtr = DecisionTreeRegressor(random_state = 0)\n",
    "    dtr_pipe = make_pipeline(col_trans,dtr)\n",
    "    dtr_pipe.fit(x_train, y_train)\n",
    "    y_pred=dtr_pipe.predict(x_test)\n",
    "    scores.append(r2_score(y_test, y_pred))"
   ]
  },
  {
   "cell_type": "code",
   "execution_count": 242,
   "id": "be00a156-e38f-44cb-922a-9b2fecc6d0d2",
   "metadata": {},
   "outputs": [
    {
     "data": {
      "text/plain": [
       "437"
      ]
     },
     "execution_count": 242,
     "metadata": {},
     "output_type": "execute_result"
    }
   ],
   "source": [
    "np.argmax(scores)"
   ]
  },
  {
   "cell_type": "code",
   "execution_count": 243,
   "id": "3729e900-d10e-4144-affa-ffb35b135ffa",
   "metadata": {},
   "outputs": [
    {
     "data": {
      "text/plain": [
       "0.9312797205328399"
      ]
     },
     "execution_count": 243,
     "metadata": {},
     "output_type": "execute_result"
    }
   ],
   "source": [
    "scores[np.argmax(scores)]"
   ]
  },
  {
   "cell_type": "code",
   "execution_count": 244,
   "id": "a9bd7bc3-adc0-4e87-bb03-387cbd1853eb",
   "metadata": {},
   "outputs": [
    {
     "data": {
      "text/plain": [
       "0.9312797205328399"
      ]
     },
     "execution_count": 244,
     "metadata": {},
     "output_type": "execute_result"
    }
   ],
   "source": [
    "x_train, x_test, y_train, y_test= train_test_split(x, y, test_size=0.2,random_state=np.argmax(scores))\n",
    "dtr = DecisionTreeRegressor(random_state = 0)\n",
    "dtr_pipe = make_pipeline(col_trans,dtr)\n",
    "dtr_pipe.fit(x_train, y_train)\n",
    "y_pred=dtr_pipe.predict(x_test)\n",
    "r2_dtr=r2_score(y_test,y_pred)\n",
    "r2_dtr"
   ]
  },
  {
   "cell_type": "code",
   "execution_count": 245,
   "id": "635b8f0c-932a-4b5c-96d0-6b42178c303c",
   "metadata": {},
   "outputs": [],
   "source": [
    "from tabulate import tabulate"
   ]
  },
  {
   "cell_type": "code",
   "execution_count": 246,
   "id": "3df55063-e168-480a-b261-c8d9aaddae53",
   "metadata": {},
   "outputs": [
    {
     "name": "stdout",
     "output_type": "stream",
     "text": [
      "╒══════════╤══════════════════════════╤═══════════════════╕\n",
      "│   Sr.No. │ Regression Model         │   R-squared value │\n",
      "╞══════════╪══════════════════════════╪═══════════════════╡\n",
      "│        1 │ Linear Regression        │          0.839689 │\n",
      "├──────────┼──────────────────────────┼───────────────────┤\n",
      "│        2 │ Decision Tree Regression │          0.93128  │\n",
      "├──────────┼──────────────────────────┼───────────────────┤\n",
      "│        3 │ Random Forest Regression │          0.9221   │\n",
      "╘══════════╧══════════════════════════╧═══════════════════╛\n"
     ]
    }
   ],
   "source": [
    "table = []\n",
    "table.append(['Sr.No.', 'Regression Model', 'R-squared value'])\n",
    "table.append(['1', 'Linear Regression', r2_lr])\n",
    "table.append(['2', 'Decision Tree Regression', r2_dtr])\n",
    "table.append(['3', 'Random Forest Regression', r2_rfr])\n",
    "\n",
    "print(tabulate(table, headers='firstrow', tablefmt='fancy_grid'))"
   ]
  },
  {
   "cell_type": "code",
   "execution_count": 258,
   "id": "97cb0b9e-9578-4def-91d7-425d09898a22",
   "metadata": {},
   "outputs": [],
   "source": [
    "v1 = lr_pipe.predict(pd.DataFrame([['Maruti Suzuki','Swift','Hatchback',5.9,2023,1]],columns=['OEM','MODEL','BODY TYPE','PRICE IN LAKHS','YEAR','MONTH']))\n",
    "v2 = dtr_pipe.predict(pd.DataFrame([['Maruti Suzuki','Swift','Hatchback',5.9,2023,1]],columns=['OEM','MODEL','BODY TYPE','PRICE IN LAKHS','YEAR','MONTH']))\n",
    "v3 = rfr_pipeline.predict(pd.DataFrame([['Maruti Suzuki','Swift','Hatchback',5.9,2023,1]],columns=['OEM','MODEL','BODY TYPE','PRICE IN LAKHS','YEAR','MONTH']))"
   ]
  },
  {
   "cell_type": "code",
   "execution_count": 259,
   "id": "7adb43c1-0cae-4412-8c80-64ae47d26998",
   "metadata": {},
   "outputs": [
    {
     "name": "stdout",
     "output_type": "stream",
     "text": [
      "Sale of Mahindra Swift in January 2023 will be\n",
      "By Linear Regression Model : 8510\n",
      "By Desision Tree Regression Model : 9334\n",
      "By Random Forest Regression Model : 9334\n"
     ]
    }
   ],
   "source": [
    "print(\"Sale of Mahindra Swift in January 2023 will be\")\n",
    "print(\"By Linear Regression Model :\",int(v1))\n",
    "print(\"By Desision Tree Regression Model :\",int(v2))\n",
    "print(\"By Random Forest Regression Model :\",int(v3))"
   ]
  },
  {
   "cell_type": "code",
   "execution_count": null,
   "id": "cef0506d-cf37-4fb6-b99b-09d6d4072d70",
   "metadata": {},
   "outputs": [],
   "source": []
  },
  {
   "cell_type": "code",
   "execution_count": null,
   "id": "91a9f625-b6fd-4237-b653-2475c664556b",
   "metadata": {},
   "outputs": [],
   "source": []
  }
 ],
 "metadata": {
  "kernelspec": {
   "display_name": "Python 3 (ipykernel)",
   "language": "python",
   "name": "python3"
  },
  "language_info": {
   "codemirror_mode": {
    "name": "ipython",
    "version": 3
   },
   "file_extension": ".py",
   "mimetype": "text/x-python",
   "name": "python",
   "nbconvert_exporter": "python",
   "pygments_lexer": "ipython3",
   "version": "3.9.12"
  }
 },
 "nbformat": 4,
 "nbformat_minor": 5
}
